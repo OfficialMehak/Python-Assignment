{
  "nbformat": 4,
  "nbformat_minor": 0,
  "metadata": {
    "colab": {
      "provenance": [],
      "authorship_tag": "ABX9TyNL92l+Oj+vY+QfJ5CJI4rv",
      "include_colab_link": true
    },
    "kernelspec": {
      "name": "python3",
      "display_name": "Python 3"
    },
    "language_info": {
      "name": "python"
    }
  },
  "cells": [
    {
      "cell_type": "markdown",
      "metadata": {
        "id": "view-in-github",
        "colab_type": "text"
      },
      "source": [
        "<a href=\"https://colab.research.google.com/github/OfficialMehak/Python-Assignment/blob/main/Pyhton_Assignment.ipynb\" target=\"_parent\"><img src=\"https://colab.research.google.com/assets/colab-badge.svg\" alt=\"Open In Colab\"/></a>"
      ]
    },
    {
      "cell_type": "markdown",
      "source": [
        "Q1. L is a list defined as L= [11, 12, 13, 14].\n"
      ],
      "metadata": {
        "id": "FskzaGQvhNAF"
      }
    },
    {
      "cell_type": "markdown",
      "source": [
        "(i)WAP to add 50 and 60 to L.\n"
      ],
      "metadata": {
        "id": "26X4a6gyhTpv"
      }
    },
    {
      "cell_type": "code",
      "source": [
        "L = [11, 12, 13, 14]\n",
        "L.append(50)\n",
        "L.append(60)\n",
        "print(L)"
      ],
      "metadata": {
        "colab": {
          "base_uri": "https://localhost:8080/"
        },
        "id": "-LSOOYBmhVdJ",
        "outputId": "51dbd168-cd38-4a2b-95c6-7d86039bab42"
      },
      "execution_count": 44,
      "outputs": [
        {
          "output_type": "stream",
          "name": "stdout",
          "text": [
            "[11, 12, 13, 14, 50, 60]\n"
          ]
        }
      ]
    },
    {
      "cell_type": "markdown",
      "source": [
        "(ii)WAP to remove 11 and 13 from L.\n"
      ],
      "metadata": {
        "id": "phNpbj-6hiHj"
      }
    },
    {
      "cell_type": "code",
      "source": [
        "L.remove(11)\n",
        "L.remove(13)\n",
        "print(L)"
      ],
      "metadata": {
        "colab": {
          "base_uri": "https://localhost:8080/"
        },
        "id": "5-6BVcPmhj1c",
        "outputId": "f1332acc-75fa-4ee5-911f-9ba6f795b0ac"
      },
      "execution_count": 45,
      "outputs": [
        {
          "output_type": "stream",
          "name": "stdout",
          "text": [
            "[12, 14, 50, 60]\n"
          ]
        }
      ]
    },
    {
      "cell_type": "markdown",
      "source": [
        "(iii)WAP to sort L in ascending order.\n"
      ],
      "metadata": {
        "id": "5wkJ8I62iHZJ"
      }
    },
    {
      "cell_type": "code",
      "source": [
        "L.sort(reverse=False)\n",
        "print(L)"
      ],
      "metadata": {
        "colab": {
          "base_uri": "https://localhost:8080/"
        },
        "id": "w-h0KjZCiLqj",
        "outputId": "0a6bd63d-207d-4f7c-8832-83652a0d9194"
      },
      "execution_count": 47,
      "outputs": [
        {
          "output_type": "stream",
          "name": "stdout",
          "text": [
            "[12, 14, 50, 60]\n"
          ]
        }
      ]
    },
    {
      "cell_type": "markdown",
      "source": [
        "(iv)WAP to sort L in descending order.\n"
      ],
      "metadata": {
        "id": "dIA6U1_lie2R"
      }
    },
    {
      "cell_type": "code",
      "source": [
        "L.sort(reverse=True)\n",
        "print(L)"
      ],
      "metadata": {
        "colab": {
          "base_uri": "https://localhost:8080/"
        },
        "id": "_EcaHRQSijzu",
        "outputId": "1e57fe67-da6c-4bca-d4c8-49839b1db6d3"
      },
      "execution_count": 11,
      "outputs": [
        {
          "output_type": "stream",
          "name": "stdout",
          "text": [
            "[60, 50, 14, 12]\n"
          ]
        }
      ]
    },
    {
      "cell_type": "markdown",
      "source": [
        "(v)WAP to search for 13 in L.\n"
      ],
      "metadata": {
        "id": "yv9lf_cqirNs"
      }
    },
    {
      "cell_type": "code",
      "source": [
        "print(13 in L)"
      ],
      "metadata": {
        "colab": {
          "base_uri": "https://localhost:8080/"
        },
        "id": "zM15l5NQitNY",
        "outputId": "00402f36-be19-46bf-c149-612a71daff81"
      },
      "execution_count": 14,
      "outputs": [
        {
          "output_type": "stream",
          "name": "stdout",
          "text": [
            "False\n"
          ]
        }
      ]
    },
    {
      "cell_type": "markdown",
      "source": [
        "(vi)WAP to count the number of elements present in L.\n"
      ],
      "metadata": {
        "id": "8lHzW9m9jRG-"
      }
    },
    {
      "cell_type": "code",
      "source": [
        "print(len(L))"
      ],
      "metadata": {
        "colab": {
          "base_uri": "https://localhost:8080/"
        },
        "id": "eGtRXjbQjVJY",
        "outputId": "02c3551f-4f3f-463d-d3c4-e89b8c4a1abe"
      },
      "execution_count": 17,
      "outputs": [
        {
          "output_type": "stream",
          "name": "stdout",
          "text": [
            "4\n"
          ]
        }
      ]
    },
    {
      "cell_type": "markdown",
      "source": [
        "(vii)WAP to sum all the elements in L.\n"
      ],
      "metadata": {
        "id": "tSOm5Dq8jxyg"
      }
    },
    {
      "cell_type": "code",
      "source": [
        "print(\"Sum of all elements in List L = \", sum(L))"
      ],
      "metadata": {
        "colab": {
          "base_uri": "https://localhost:8080/"
        },
        "id": "WWJS7aN2kJc7",
        "outputId": "64a426e8-a15c-4b90-b635-1a0d85dfbe04"
      },
      "execution_count": 18,
      "outputs": [
        {
          "output_type": "stream",
          "name": "stdout",
          "text": [
            "Sum of all elements in List L =  136\n"
          ]
        }
      ]
    },
    {
      "cell_type": "markdown",
      "source": [
        "(viii)WAP to sum all ODD numbers in L.\n"
      ],
      "metadata": {
        "id": "Jp_KH9XzkUSJ"
      }
    },
    {
      "cell_type": "code",
      "source": [
        "sum([num for num in L if num % 2 != 0])"
      ],
      "metadata": {
        "colab": {
          "base_uri": "https://localhost:8080/"
        },
        "id": "F_dFMGjFlLJW",
        "outputId": "1c9c0128-f7b2-44e1-ea7e-59d99576a048"
      },
      "execution_count": 21,
      "outputs": [
        {
          "output_type": "execute_result",
          "data": {
            "text/plain": [
              "0"
            ]
          },
          "metadata": {},
          "execution_count": 21
        }
      ]
    },
    {
      "cell_type": "markdown",
      "source": [
        "(ix)WAP to sum all EVEN numbers in L.\n"
      ],
      "metadata": {
        "id": "sOV1MOfDlimN"
      }
    },
    {
      "cell_type": "code",
      "source": [
        "sum (number for number in L if number % 2 == 0)"
      ],
      "metadata": {
        "colab": {
          "base_uri": "https://localhost:8080/"
        },
        "id": "f_IV95F8lk8K",
        "outputId": "48668b1a-7429-49a7-c100-d3732cfe78af"
      },
      "execution_count": 23,
      "outputs": [
        {
          "output_type": "execute_result",
          "data": {
            "text/plain": [
              "136"
            ]
          },
          "metadata": {},
          "execution_count": 23
        }
      ]
    },
    {
      "cell_type": "markdown",
      "source": [
        "(x)WAP to sum all PRIME numbers in L.\n"
      ],
      "metadata": {
        "id": "yDwzq4gQlz-Y"
      }
    },
    {
      "cell_type": "code",
      "source": [
        "sum(i for i in L if all(i % j for j in range(2, int(i**0.5) + 1)) and i > 1)\n"
      ],
      "metadata": {
        "colab": {
          "base_uri": "https://localhost:8080/"
        },
        "id": "Q3lqSNT-l2H2",
        "outputId": "92439c71-91b2-4a42-95e3-0e0a4b158327"
      },
      "execution_count": 35,
      "outputs": [
        {
          "output_type": "execute_result",
          "data": {
            "text/plain": [
              "0"
            ]
          },
          "metadata": {},
          "execution_count": 35
        }
      ]
    },
    {
      "cell_type": "markdown",
      "source": [
        "(xi)WAP to clear all the elements in L.\n"
      ],
      "metadata": {
        "id": "tpZaC_YFtG8I"
      }
    },
    {
      "cell_type": "code",
      "source": [
        "L.clear()\n",
        "print(L)"
      ],
      "metadata": {
        "colab": {
          "base_uri": "https://localhost:8080/"
        },
        "id": "EjblAHcktD-C",
        "outputId": "06222719-1421-4609-d8c3-0c064c12d443"
      },
      "execution_count": 48,
      "outputs": [
        {
          "output_type": "stream",
          "name": "stdout",
          "text": [
            "[]\n"
          ]
        }
      ]
    },
    {
      "cell_type": "markdown",
      "source": [
        "(xii)WAP to delete L."
      ],
      "metadata": {
        "id": "HgDHs4OTtRRg"
      }
    },
    {
      "cell_type": "code",
      "source": [
        "del L"
      ],
      "metadata": {
        "id": "ajmeubMltSHD"
      },
      "execution_count": 49,
      "outputs": []
    }
  ]
}