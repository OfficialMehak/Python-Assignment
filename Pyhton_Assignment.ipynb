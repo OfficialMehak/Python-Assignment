{
  "nbformat": 4,
  "nbformat_minor": 0,
  "metadata": {
    "colab": {
      "provenance": [],
      "authorship_tag": "ABX9TyO8Q58VkYS3VbK3QUkKJ0P/",
      "include_colab_link": true
    },
    "kernelspec": {
      "name": "python3",
      "display_name": "Python 3"
    },
    "language_info": {
      "name": "python"
    }
  },
  "cells": [
    {
      "cell_type": "markdown",
      "metadata": {
        "id": "view-in-github",
        "colab_type": "text"
      },
      "source": [
        "<a href=\"https://colab.research.google.com/github/OfficialMehak/Python-Assignment/blob/main/Pyhton_Assignment.ipynb\" target=\"_parent\"><img src=\"https://colab.research.google.com/assets/colab-badge.svg\" alt=\"Open In Colab\"/></a>"
      ]
    },
    {
      "cell_type": "markdown",
      "source": [
        "# **Q1. L is a list defined as L= [11, 12, 13, 14].**![ss_python_assignment.png](data:image/png;base64,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)"
      ],
      "metadata": {
        "id": "FskzaGQvhNAF"
      }
    },
    {
      "cell_type": "markdown",
      "source": [
        "(i)WAP to add 50 and 60 to L.\n"
      ],
      "metadata": {
        "id": "26X4a6gyhTpv"
      }
    },
    {
      "cell_type": "code",
      "source": [
        "L = [11, 12, 13, 14]\n",
        "L.append(50)\n",
        "L.append(60)\n",
        "print(L)"
      ],
      "metadata": {
        "colab": {
          "base_uri": "https://localhost:8080/"
        },
        "id": "-LSOOYBmhVdJ",
        "outputId": "51dbd168-cd38-4a2b-95c6-7d86039bab42"
      },
      "execution_count": null,
      "outputs": [
        {
          "output_type": "stream",
          "name": "stdout",
          "text": [
            "[11, 12, 13, 14, 50, 60]\n"
          ]
        }
      ]
    },
    {
      "cell_type": "markdown",
      "source": [
        "(ii)WAP to remove 11 and 13 from L.\n"
      ],
      "metadata": {
        "id": "phNpbj-6hiHj"
      }
    },
    {
      "cell_type": "code",
      "source": [
        "L.remove(11)\n",
        "L.remove(13)\n",
        "print(L)"
      ],
      "metadata": {
        "colab": {
          "base_uri": "https://localhost:8080/"
        },
        "id": "5-6BVcPmhj1c",
        "outputId": "f1332acc-75fa-4ee5-911f-9ba6f795b0ac"
      },
      "execution_count": null,
      "outputs": [
        {
          "output_type": "stream",
          "name": "stdout",
          "text": [
            "[12, 14, 50, 60]\n"
          ]
        }
      ]
    },
    {
      "cell_type": "markdown",
      "source": [
        "(iii)WAP to sort L in ascending order.\n"
      ],
      "metadata": {
        "id": "5wkJ8I62iHZJ"
      }
    },
    {
      "cell_type": "code",
      "source": [
        "L.sort(reverse=False)\n",
        "print(L)"
      ],
      "metadata": {
        "colab": {
          "base_uri": "https://localhost:8080/"
        },
        "id": "w-h0KjZCiLqj",
        "outputId": "0a6bd63d-207d-4f7c-8832-83652a0d9194"
      },
      "execution_count": null,
      "outputs": [
        {
          "output_type": "stream",
          "name": "stdout",
          "text": [
            "[12, 14, 50, 60]\n"
          ]
        }
      ]
    },
    {
      "cell_type": "markdown",
      "source": [
        "(iv)WAP to sort L in descending order.\n"
      ],
      "metadata": {
        "id": "dIA6U1_lie2R"
      }
    },
    {
      "cell_type": "code",
      "source": [
        "L.sort(reverse=True)\n",
        "print(L)"
      ],
      "metadata": {
        "colab": {
          "base_uri": "https://localhost:8080/"
        },
        "id": "_EcaHRQSijzu",
        "outputId": "1e57fe67-da6c-4bca-d4c8-49839b1db6d3"
      },
      "execution_count": null,
      "outputs": [
        {
          "output_type": "stream",
          "name": "stdout",
          "text": [
            "[60, 50, 14, 12]\n"
          ]
        }
      ]
    },
    {
      "cell_type": "markdown",
      "source": [
        "(v)WAP to search for 13 in L.\n"
      ],
      "metadata": {
        "id": "yv9lf_cqirNs"
      }
    },
    {
      "cell_type": "code",
      "source": [
        "print(13 in L)"
      ],
      "metadata": {
        "colab": {
          "base_uri": "https://localhost:8080/"
        },
        "id": "zM15l5NQitNY",
        "outputId": "00402f36-be19-46bf-c149-612a71daff81"
      },
      "execution_count": null,
      "outputs": [
        {
          "output_type": "stream",
          "name": "stdout",
          "text": [
            "False\n"
          ]
        }
      ]
    },
    {
      "cell_type": "markdown",
      "source": [
        "(vi)WAP to count the number of elements present in L.\n"
      ],
      "metadata": {
        "id": "8lHzW9m9jRG-"
      }
    },
    {
      "cell_type": "code",
      "source": [
        "print(len(L))"
      ],
      "metadata": {
        "colab": {
          "base_uri": "https://localhost:8080/"
        },
        "id": "eGtRXjbQjVJY",
        "outputId": "02c3551f-4f3f-463d-d3c4-e89b8c4a1abe"
      },
      "execution_count": null,
      "outputs": [
        {
          "output_type": "stream",
          "name": "stdout",
          "text": [
            "4\n"
          ]
        }
      ]
    },
    {
      "cell_type": "markdown",
      "source": [
        "(vii)WAP to sum all the elements in L.\n"
      ],
      "metadata": {
        "id": "tSOm5Dq8jxyg"
      }
    },
    {
      "cell_type": "code",
      "source": [
        "print(\"Sum of all elements in List L = \", sum(L))"
      ],
      "metadata": {
        "colab": {
          "base_uri": "https://localhost:8080/"
        },
        "id": "WWJS7aN2kJc7",
        "outputId": "64a426e8-a15c-4b90-b635-1a0d85dfbe04"
      },
      "execution_count": null,
      "outputs": [
        {
          "output_type": "stream",
          "name": "stdout",
          "text": [
            "Sum of all elements in List L =  136\n"
          ]
        }
      ]
    },
    {
      "cell_type": "markdown",
      "source": [
        "(viii)WAP to sum all ODD numbers in L.\n"
      ],
      "metadata": {
        "id": "Jp_KH9XzkUSJ"
      }
    },
    {
      "cell_type": "code",
      "source": [
        "sum([num for num in L if num % 2 != 0])"
      ],
      "metadata": {
        "colab": {
          "base_uri": "https://localhost:8080/"
        },
        "id": "F_dFMGjFlLJW",
        "outputId": "1c9c0128-f7b2-44e1-ea7e-59d99576a048"
      },
      "execution_count": null,
      "outputs": [
        {
          "output_type": "execute_result",
          "data": {
            "text/plain": [
              "0"
            ]
          },
          "metadata": {},
          "execution_count": 21
        }
      ]
    },
    {
      "cell_type": "markdown",
      "source": [
        "(ix)WAP to sum all EVEN numbers in L.\n"
      ],
      "metadata": {
        "id": "sOV1MOfDlimN"
      }
    },
    {
      "cell_type": "code",
      "source": [
        "sum (number for number in L if number % 2 == 0)"
      ],
      "metadata": {
        "colab": {
          "base_uri": "https://localhost:8080/"
        },
        "id": "f_IV95F8lk8K",
        "outputId": "48668b1a-7429-49a7-c100-d3732cfe78af"
      },
      "execution_count": null,
      "outputs": [
        {
          "output_type": "execute_result",
          "data": {
            "text/plain": [
              "136"
            ]
          },
          "metadata": {},
          "execution_count": 23
        }
      ]
    },
    {
      "cell_type": "markdown",
      "source": [
        "(x)WAP to sum all PRIME numbers in L.\n"
      ],
      "metadata": {
        "id": "yDwzq4gQlz-Y"
      }
    },
    {
      "cell_type": "code",
      "source": [
        "sum(i for i in L if all(i % j for j in range(2, int(i**0.5) + 1)) and i > 1)\n"
      ],
      "metadata": {
        "colab": {
          "base_uri": "https://localhost:8080/"
        },
        "id": "Q3lqSNT-l2H2",
        "outputId": "92439c71-91b2-4a42-95e3-0e0a4b158327"
      },
      "execution_count": null,
      "outputs": [
        {
          "output_type": "execute_result",
          "data": {
            "text/plain": [
              "0"
            ]
          },
          "metadata": {},
          "execution_count": 35
        }
      ]
    },
    {
      "cell_type": "markdown",
      "source": [
        "(xi)WAP to clear all the elements in L.\n"
      ],
      "metadata": {
        "id": "tpZaC_YFtG8I"
      }
    },
    {
      "cell_type": "code",
      "source": [
        "L.clear()\n",
        "print(L)"
      ],
      "metadata": {
        "colab": {
          "base_uri": "https://localhost:8080/"
        },
        "id": "EjblAHcktD-C",
        "outputId": "06222719-1421-4609-d8c3-0c064c12d443"
      },
      "execution_count": null,
      "outputs": [
        {
          "output_type": "stream",
          "name": "stdout",
          "text": [
            "[]\n"
          ]
        }
      ]
    },
    {
      "cell_type": "markdown",
      "source": [
        "(xii)WAP to delete L."
      ],
      "metadata": {
        "id": "HgDHs4OTtRRg"
      }
    },
    {
      "cell_type": "code",
      "source": [
        "del L"
      ],
      "metadata": {
        "id": "ajmeubMltSHD"
      },
      "execution_count": null,
      "outputs": []
    },
    {
      "cell_type": "markdown",
      "source": [
        "# **Q2. D is a dictionary defined as D= {1:5.6, 2:7.8, 3:6.6, 4:8.7, 5:7.7}**\n"
      ],
      "metadata": {
        "id": "rW02eQ9yv9bY"
      }
    },
    {
      "cell_type": "markdown",
      "source": [],
      "metadata": {
        "id": "C92AvCWuwltA"
      }
    },
    {
      "cell_type": "markdown",
      "source": [
        "(i)WAP to add new entry in D; key=8 and value is 8.8\n"
      ],
      "metadata": {
        "id": "F9MhCNtLwlum"
      }
    },
    {
      "cell_type": "code",
      "source": [
        "D = {1:5.6, 2:7.8, 3:6.6, 4:8.7, 5:7.7}\n",
        "D[8] = 8.8\n",
        "print(D)"
      ],
      "metadata": {
        "colab": {
          "base_uri": "https://localhost:8080/"
        },
        "id": "9iuz3hVKwGFu",
        "outputId": "47532d37-7b7a-405b-f9ce-8cd6e93223ec"
      },
      "execution_count": 50,
      "outputs": [
        {
          "output_type": "stream",
          "name": "stdout",
          "text": [
            "{1: 5.6, 2: 7.8, 3: 6.6, 4: 8.7, 5: 7.7, 8: 8.8}\n"
          ]
        }
      ]
    },
    {
      "cell_type": "markdown",
      "source": [
        "(ii)WAP to remove key=2.\n"
      ],
      "metadata": {
        "id": "0ZM-qNmWwuMo"
      }
    },
    {
      "cell_type": "code",
      "source": [
        "del D[2]\n",
        "print(D)"
      ],
      "metadata": {
        "colab": {
          "base_uri": "https://localhost:8080/"
        },
        "id": "XWDOR6fvwwlq",
        "outputId": "d6fab2e4-42f5-4105-d1f4-436fc7f01ab1"
      },
      "execution_count": 51,
      "outputs": [
        {
          "output_type": "stream",
          "name": "stdout",
          "text": [
            "{1: 5.6, 3: 6.6, 4: 8.7, 5: 7.7, 8: 8.8}\n"
          ]
        }
      ]
    },
    {
      "cell_type": "markdown",
      "source": [
        "(iii)WAP to check weather 6 key is present in D.\n"
      ],
      "metadata": {
        "id": "RZLx8H0kxRYn"
      }
    },
    {
      "cell_type": "code",
      "source": [
        "print(6 in D)"
      ],
      "metadata": {
        "colab": {
          "base_uri": "https://localhost:8080/"
        },
        "id": "62tw-iRkxVXQ",
        "outputId": "b99ded1d-1e6e-4d85-b17a-3b9e2724d072"
      },
      "execution_count": 53,
      "outputs": [
        {
          "output_type": "stream",
          "name": "stdout",
          "text": [
            "False\n"
          ]
        }
      ]
    },
    {
      "cell_type": "markdown",
      "source": [
        "(iv)WAP to count the number of elements present in D.\n"
      ],
      "metadata": {
        "id": "KRZRgZnvyvOj"
      }
    },
    {
      "cell_type": "code",
      "source": [
        "print(len(D))"
      ],
      "metadata": {
        "colab": {
          "base_uri": "https://localhost:8080/"
        },
        "id": "SMQ04jNMyw9x",
        "outputId": "75a50202-1658-464e-fd07-a3dfd20c405a"
      },
      "execution_count": 54,
      "outputs": [
        {
          "output_type": "stream",
          "name": "stdout",
          "text": [
            "5\n"
          ]
        }
      ]
    },
    {
      "cell_type": "markdown",
      "source": [
        "(v)WAP to add all the values present D.\n"
      ],
      "metadata": {
        "id": "lFb6b3QOy0YC"
      }
    },
    {
      "cell_type": "code",
      "source": [
        "sum(D.values())"
      ],
      "metadata": {
        "colab": {
          "base_uri": "https://localhost:8080/"
        },
        "id": "FgDlA9pky3Mu",
        "outputId": "75e36b3c-9fc8-4cf8-8051-9cc52ad26c83"
      },
      "execution_count": 55,
      "outputs": [
        {
          "output_type": "execute_result",
          "data": {
            "text/plain": [
              "37.4"
            ]
          },
          "metadata": {},
          "execution_count": 55
        }
      ]
    },
    {
      "cell_type": "markdown",
      "source": [
        "(vi)WAP to update the value of 3 to 7.1.\n"
      ],
      "metadata": {
        "id": "V77vQHxYzCUQ"
      }
    },
    {
      "cell_type": "code",
      "source": [
        "D[3] = 7.1\n",
        "print(D)"
      ],
      "metadata": {
        "colab": {
          "base_uri": "https://localhost:8080/"
        },
        "id": "6fNjG4GJzD8n",
        "outputId": "ce18c9d6-9e82-4ef9-f4ae-7f3e5abfda2b"
      },
      "execution_count": 56,
      "outputs": [
        {
          "output_type": "stream",
          "name": "stdout",
          "text": [
            "{1: 5.6, 3: 7.1, 4: 8.7, 5: 7.7, 8: 8.8}\n"
          ]
        }
      ]
    },
    {
      "cell_type": "markdown",
      "source": [
        "(vii)WAP to clear the dictionary."
      ],
      "metadata": {
        "id": "5HunO61DzUak"
      }
    },
    {
      "cell_type": "code",
      "source": [
        "D.clear()\n",
        "print(D)"
      ],
      "metadata": {
        "colab": {
          "base_uri": "https://localhost:8080/"
        },
        "id": "VjQRVf4uzWAb",
        "outputId": "c57698cb-2c8c-4911-e646-00e6b01dcaaf"
      },
      "execution_count": 58,
      "outputs": [
        {
          "output_type": "stream",
          "name": "stdout",
          "text": [
            "{}\n"
          ]
        }
      ]
    },
    {
      "cell_type": "markdown",
      "source": [
        "## **Q3. S1 is a set defined as S1= [10, 20, 30, 40, 50, 60]. S2 is a set defined as S2= [40, 50, 60, 70, 80, 90].**"
      ],
      "metadata": {
        "id": "q_ODNeH_zfG8"
      }
    },
    {
      "cell_type": "markdown",
      "source": [
        "(i)WAP to add 55 and 66 in Set S1.\n"
      ],
      "metadata": {
        "id": "z_3UWv9Az4YN"
      }
    },
    {
      "cell_type": "code",
      "source": [
        "s1 = set([10, 20, 30, 40, 50, 60])\n",
        "s2 = set([40, 50, 60, 70, 80, 90])\n",
        "s1.add(55)\n",
        "s1.add(66)\n",
        "print(s1)\n"
      ],
      "metadata": {
        "colab": {
          "base_uri": "https://localhost:8080/"
        },
        "id": "zW8yiif-z8UJ",
        "outputId": "b131e5b7-f851-4b86-8ad3-add6c5cd5306"
      },
      "execution_count": 66,
      "outputs": [
        {
          "output_type": "stream",
          "name": "stdout",
          "text": [
            "{66, 40, 10, 50, 20, 55, 60, 30}\n"
          ]
        }
      ]
    },
    {
      "cell_type": "markdown",
      "source": [
        "(ii)WAP to remove 10 and 30 from Set S1.\n"
      ],
      "metadata": {
        "id": "JYMiHRav0QqW"
      }
    },
    {
      "cell_type": "code",
      "source": [
        "s1.remove(10)\n",
        "s1.remove(30)\n",
        "print(s1)"
      ],
      "metadata": {
        "colab": {
          "base_uri": "https://localhost:8080/"
        },
        "id": "h6pSWqwH0TDS",
        "outputId": "cbc0668c-fbb5-40d9-faeb-a451fa7799e6"
      },
      "execution_count": 67,
      "outputs": [
        {
          "output_type": "stream",
          "name": "stdout",
          "text": [
            "{66, 40, 50, 20, 55, 60}\n"
          ]
        }
      ]
    },
    {
      "cell_type": "markdown",
      "source": [
        "(iii)WAP to check whether 40 is present in S1.\n"
      ],
      "metadata": {
        "id": "Gq6f4CcT0Zel"
      }
    },
    {
      "cell_type": "code",
      "source": [
        "print(40 in s1)"
      ],
      "metadata": {
        "colab": {
          "base_uri": "https://localhost:8080/"
        },
        "id": "NVppyaPN0bYo",
        "outputId": "6b3f59df-71de-414a-f0b8-bb99aefd958b"
      },
      "execution_count": 68,
      "outputs": [
        {
          "output_type": "stream",
          "name": "stdout",
          "text": [
            "True\n"
          ]
        }
      ]
    },
    {
      "cell_type": "markdown",
      "source": [
        "(iv)WAP to find the union between S1 and S2.\n"
      ],
      "metadata": {
        "id": "Mzx_USx60gE0"
      }
    },
    {
      "cell_type": "code",
      "source": [
        "union = s1.union(s2)\n",
        "print(union)"
      ],
      "metadata": {
        "colab": {
          "base_uri": "https://localhost:8080/"
        },
        "id": "vwDj09pK0hyT",
        "outputId": "aa171557-bec5-4f52-ddf4-f9dc681ae20b"
      },
      "execution_count": 69,
      "outputs": [
        {
          "output_type": "stream",
          "name": "stdout",
          "text": [
            "{66, 70, 40, 80, 50, 20, 55, 90, 60}\n"
          ]
        }
      ]
    },
    {
      "cell_type": "markdown",
      "source": [
        "(v)WAP to find the intersection between S1 and S2.\n"
      ],
      "metadata": {
        "id": "I26uk-GW1P5h"
      }
    },
    {
      "cell_type": "code",
      "source": [
        "intersection = s1.intersection(s2)\n",
        "print(intersection)"
      ],
      "metadata": {
        "colab": {
          "base_uri": "https://localhost:8080/"
        },
        "id": "LnOVe3jz1RqV",
        "outputId": "1e71d630-7725-4eb1-ed41-1ce2e4c408c3"
      },
      "execution_count": 70,
      "outputs": [
        {
          "output_type": "stream",
          "name": "stdout",
          "text": [
            "{40, 50, 60}\n"
          ]
        }
      ]
    },
    {
      "cell_type": "markdown",
      "source": [
        "(vi)WAP to find the S1 - S2."
      ],
      "metadata": {
        "id": "GiYT6vJe1UbM"
      }
    },
    {
      "cell_type": "code",
      "source": [
        "difference = s1.difference(s2)\n",
        "print(difference)"
      ],
      "metadata": {
        "colab": {
          "base_uri": "https://localhost:8080/"
        },
        "id": "YVoLmtBA1ViA",
        "outputId": "d1a8ed2b-3424-4d51-b892-ae3b04590769"
      },
      "execution_count": 71,
      "outputs": [
        {
          "output_type": "stream",
          "name": "stdout",
          "text": [
            "{66, 20, 55}\n"
          ]
        }
      ]
    },
    {
      "cell_type": "markdown",
      "source": [
        "# **Q4. Write the following program.**"
      ],
      "metadata": {
        "id": "6CkVsDoZ1bJe"
      }
    },
    {
      "cell_type": "markdown",
      "source": [
        "(i)WAP to print 100 random strings whose length between 6 and 8.\n"
      ],
      "metadata": {
        "id": "HalTfSWd1igc"
      }
    },
    {
      "cell_type": "code",
      "source": [
        "import string\n",
        "import random\n",
        "letters = string.ascii_lowercase\n",
        "length = random.randint(6, 8)\n",
        "for i in range(100):\n",
        "  print(''.join(random.choice(letters) for i in range(length)))\n"
      ],
      "metadata": {
        "colab": {
          "base_uri": "https://localhost:8080/"
        },
        "id": "ZXgR0dga1nvV",
        "outputId": "96e14990-b6ce-4477-d347-ba4ff2fa970b"
      },
      "execution_count": 76,
      "outputs": [
        {
          "output_type": "stream",
          "name": "stdout",
          "text": [
            "dpjlac\n",
            "lmcpmd\n",
            "jjrafp\n",
            "brtrpg\n",
            "hafarq\n",
            "ssvqni\n",
            "zmhddx\n",
            "npvdsv\n",
            "dfnimx\n",
            "dgokgi\n",
            "ygvuyp\n",
            "cyjkdp\n",
            "vknouk\n",
            "mnnpqb\n",
            "dnnhis\n",
            "ngqfze\n",
            "tjqarb\n",
            "zbxrut\n",
            "yskxbe\n",
            "gzfqog\n",
            "gzbviq\n",
            "iknavm\n",
            "ynsbpn\n",
            "warzmn\n",
            "ynlkan\n",
            "cugsth\n",
            "gknssm\n",
            "bvdagp\n",
            "qsrnhw\n",
            "gbdhux\n",
            "isijkr\n",
            "quhbgk\n",
            "clzcxl\n",
            "ffsupv\n",
            "tagjle\n",
            "oaanpn\n",
            "imctqv\n",
            "bkeusr\n",
            "xtfxfu\n",
            "xavnfb\n",
            "mtcbrj\n",
            "sdhvqw\n",
            "citrjs\n",
            "ocjeur\n",
            "sepmig\n",
            "nthoqs\n",
            "ffyadf\n",
            "ojfcqb\n",
            "xutxhk\n",
            "zcbesl\n",
            "evnlas\n",
            "reqnpu\n",
            "sgojfj\n",
            "tnbtsj\n",
            "ussano\n",
            "qsczas\n",
            "hsfxnp\n",
            "qsqfel\n",
            "pzwqxp\n",
            "exuybu\n",
            "uudwzu\n",
            "gwroio\n",
            "qypqby\n",
            "kusmez\n",
            "sqjyrp\n",
            "jlumcs\n",
            "crifsq\n",
            "zxpjqs\n",
            "nlgnle\n",
            "fizlwt\n",
            "xwdhrg\n",
            "xmzdnv\n",
            "ltqpqw\n",
            "cpnwty\n",
            "zhhvha\n",
            "nvfkyg\n",
            "msicjg\n",
            "ecyytr\n",
            "ctqmwp\n",
            "bbbzqy\n",
            "ypnjut\n",
            "ykykca\n",
            "itiqbn\n",
            "ctgbwh\n",
            "xpetka\n",
            "vizdpi\n",
            "ijeofs\n",
            "chnpkn\n",
            "ivbixh\n",
            "nprcad\n",
            "zyxokl\n",
            "amglyo\n",
            "ztlcls\n",
            "fvqrfo\n",
            "wfggzq\n",
            "eviqgu\n",
            "juicjj\n",
            "nhabrt\n",
            "oonijv\n",
            "zgzvbh\n"
          ]
        }
      ]
    },
    {
      "cell_type": "markdown",
      "source": [
        "(ii)WAP to print all prime numbers between 600 and 800.\n"
      ],
      "metadata": {
        "id": "Tc-Tqp0z288z"
      }
    },
    {
      "cell_type": "code",
      "source": [
        "for i in range (600, 800):\n",
        "  if i > 1:\n",
        "    for j in range(2, (i//2)+1):\n",
        "      if (i % j) == 0:\n",
        "        break\n",
        "    else:\n",
        "      print(i)"
      ],
      "metadata": {
        "colab": {
          "base_uri": "https://localhost:8080/"
        },
        "id": "243UHfhK2_Qf",
        "outputId": "175e8825-4fdf-4580-aff3-2aed568022a6"
      },
      "execution_count": 77,
      "outputs": [
        {
          "output_type": "stream",
          "name": "stdout",
          "text": [
            "601\n",
            "607\n",
            "613\n",
            "617\n",
            "619\n",
            "631\n",
            "641\n",
            "643\n",
            "647\n",
            "653\n",
            "659\n",
            "661\n",
            "673\n",
            "677\n",
            "683\n",
            "691\n",
            "701\n",
            "709\n",
            "719\n",
            "727\n",
            "733\n",
            "739\n",
            "743\n",
            "751\n",
            "757\n",
            "761\n",
            "769\n",
            "773\n",
            "787\n",
            "797\n"
          ]
        }
      ]
    },
    {
      "cell_type": "markdown",
      "source": [
        "(iii)WAP to print all numbers between 100 and 1000 that are divisible by 7 and 9."
      ],
      "metadata": {
        "id": "LzTjQQek3mpp"
      }
    },
    {
      "cell_type": "code",
      "source": [
        "for i in range (100, 1000):\n",
        "  if (i % 7 == 0) and (i % 9 == 0):\n",
        "    print(i)"
      ],
      "metadata": {
        "colab": {
          "base_uri": "https://localhost:8080/"
        },
        "id": "n0VeRPAI3rsQ",
        "outputId": "97240f9f-a65f-439d-82b7-eb9628697167"
      },
      "execution_count": 80,
      "outputs": [
        {
          "output_type": "stream",
          "name": "stdout",
          "text": [
            "126\n",
            "189\n",
            "252\n",
            "315\n",
            "378\n",
            "441\n",
            "504\n",
            "567\n",
            "630\n",
            "693\n",
            "756\n",
            "819\n",
            "882\n",
            "945\n"
          ]
        }
      ]
    },
    {
      "cell_type": "markdown",
      "source": [
        "# **Q5. WAP to create two lists of 10 random numbers between 10 and 30; Find**"
      ],
      "metadata": {
        "id": "R0ecGANH38u3"
      }
    },
    {
      "cell_type": "code",
      "source": [
        "L1 = [random.randint(10, 30) for i in range (10)]\n",
        "L2 = [random.randint(10, 30) for i in range (10)]\n",
        "print(L1)\n",
        "print(L2)"
      ],
      "metadata": {
        "colab": {
          "base_uri": "https://localhost:8080/"
        },
        "id": "J8x7Qr_T4Lbo",
        "outputId": "34da17f0-9205-4596-b543-2d713dcd0bfe"
      },
      "execution_count": 81,
      "outputs": [
        {
          "output_type": "stream",
          "name": "stdout",
          "text": [
            "[23, 26, 15, 18, 16, 11, 19, 20, 16, 16]\n",
            "[16, 18, 26, 12, 28, 16, 30, 28, 17, 27]\n"
          ]
        }
      ]
    },
    {
      "cell_type": "markdown",
      "source": [
        "(i)Common numbers in the two lists\n"
      ],
      "metadata": {
        "id": "2eu6_oIo4C2g"
      }
    },
    {
      "cell_type": "code",
      "source": [
        "s1 = set(L1)\n",
        "s2 = set(L2)\n",
        "print(s1.intersection(s2))"
      ],
      "metadata": {
        "colab": {
          "base_uri": "https://localhost:8080/"
        },
        "id": "5u1WXbqZ4xZs",
        "outputId": "61b1b4e4-6624-44ff-c883-0ff972cc143a"
      },
      "execution_count": 82,
      "outputs": [
        {
          "output_type": "stream",
          "name": "stdout",
          "text": [
            "{16, 18, 26}\n"
          ]
        }
      ]
    },
    {
      "cell_type": "markdown",
      "source": [
        "(ii)Unique numbers in both the list\n"
      ],
      "metadata": {
        "id": "fH-IIYrP45Gb"
      }
    },
    {
      "cell_type": "code",
      "source": [
        "print (s1.union(s2))"
      ],
      "metadata": {
        "colab": {
          "base_uri": "https://localhost:8080/"
        },
        "id": "n9g2jbrJ5JNC",
        "outputId": "f3c785b8-c477-4da3-8a55-e130b5417070"
      },
      "execution_count": 84,
      "outputs": [
        {
          "output_type": "stream",
          "name": "stdout",
          "text": [
            "{10, 12, 14, 15, 17, 19, 20, 22, 23, 24, 25, 26, 28}\n"
          ]
        }
      ]
    },
    {
      "cell_type": "markdown",
      "source": [
        "(iii)Minimum in both the list\n"
      ],
      "metadata": {
        "id": "s3xq-Njt5PdP"
      }
    },
    {
      "cell_type": "code",
      "source": [
        "min_l1 = min(L1)\n",
        "min_l2 = min(L2)\n",
        "print(min(min_l1, min_l2))"
      ],
      "metadata": {
        "colab": {
          "base_uri": "https://localhost:8080/"
        },
        "id": "7fvuP7BI5XbT",
        "outputId": "38f8caef-2bca-45f1-e19a-76377b4920c8"
      },
      "execution_count": 87,
      "outputs": [
        {
          "output_type": "stream",
          "name": "stdout",
          "text": [
            "10\n"
          ]
        }
      ]
    },
    {
      "cell_type": "markdown",
      "source": [
        "(iv)Maximum in both the list\n"
      ],
      "metadata": {
        "id": "6kee4eMq5ybq"
      }
    },
    {
      "cell_type": "code",
      "source": [
        "max_l1 = max(L1)\n",
        "max_l2 = max(L2)\n",
        "print(max(max_l1, max_l2))"
      ],
      "metadata": {
        "colab": {
          "base_uri": "https://localhost:8080/"
        },
        "id": "ImjCWLYF50Ta",
        "outputId": "9791ed2e-401d-4da7-ff01-f71cdf4a1ffc"
      },
      "execution_count": 89,
      "outputs": [
        {
          "output_type": "stream",
          "name": "stdout",
          "text": [
            "28\n"
          ]
        }
      ]
    },
    {
      "cell_type": "markdown",
      "source": [
        "(v)Sum of both the lists"
      ],
      "metadata": {
        "id": "VzJq5qeI58WV"
      }
    },
    {
      "cell_type": "code",
      "source": [
        "sum(L1) + sum(L2)"
      ],
      "metadata": {
        "colab": {
          "base_uri": "https://localhost:8080/"
        },
        "id": "7xLaPkM_59cF",
        "outputId": "f40df2e2-2221-4345-d4de-63e858f8f423"
      },
      "execution_count": 90,
      "outputs": [
        {
          "output_type": "execute_result",
          "data": {
            "text/plain": [
              "392"
            ]
          },
          "metadata": {},
          "execution_count": 90
        }
      ]
    },
    {
      "cell_type": "markdown",
      "source": [
        "# **Q6. WAP to create a list of 100 random numbers between 100 and 900. Count and print the:**"
      ],
      "metadata": {
        "id": "J1Mtt02a6D3l"
      }
    },
    {
      "cell_type": "code",
      "source": [
        "List = [random.randint(100, 900) for i in range (100)]\n",
        "print(List)"
      ],
      "metadata": {
        "colab": {
          "base_uri": "https://localhost:8080/"
        },
        "id": "RTyJbohp6SP8",
        "outputId": "c274c8c0-2943-4542-b774-4976e599d8ef"
      },
      "execution_count": 91,
      "outputs": [
        {
          "output_type": "stream",
          "name": "stdout",
          "text": [
            "[231, 360, 841, 681, 728, 576, 174, 853, 696, 493, 818, 821, 631, 251, 254, 346, 505, 267, 794, 174, 746, 716, 116, 499, 571, 889, 256, 890, 478, 677, 101, 165, 216, 682, 663, 267, 576, 479, 780, 900, 823, 607, 523, 426, 701, 246, 183, 612, 376, 452, 735, 808, 388, 896, 107, 523, 626, 491, 758, 459, 585, 185, 621, 633, 782, 416, 527, 472, 739, 574, 219, 859, 165, 815, 543, 748, 194, 148, 162, 387, 423, 534, 481, 898, 637, 218, 297, 804, 527, 583, 299, 333, 509, 200, 648, 514, 609, 351, 522, 256]\n"
          ]
        }
      ]
    },
    {
      "cell_type": "markdown",
      "source": [
        "(i)All odd numbers\n"
      ],
      "metadata": {
        "id": "Yyu9Tpyb6NGV"
      }
    },
    {
      "cell_type": "code",
      "source": [
        "for num in List:\n",
        "   if num % 2 != 0:\n",
        "    print(num)"
      ],
      "metadata": {
        "colab": {
          "base_uri": "https://localhost:8080/"
        },
        "id": "bVE7SI_v6KL_",
        "outputId": "48e54bb4-f57a-4d4d-a7a4-19a8c0855883"
      },
      "execution_count": 94,
      "outputs": [
        {
          "output_type": "stream",
          "name": "stdout",
          "text": [
            "231\n",
            "841\n",
            "681\n",
            "853\n",
            "493\n",
            "821\n",
            "631\n",
            "251\n",
            "505\n",
            "267\n",
            "499\n",
            "571\n",
            "889\n",
            "677\n",
            "101\n",
            "165\n",
            "663\n",
            "267\n",
            "479\n",
            "823\n",
            "607\n",
            "523\n",
            "701\n",
            "183\n",
            "735\n",
            "107\n",
            "523\n",
            "491\n",
            "459\n",
            "585\n",
            "185\n",
            "621\n",
            "633\n",
            "527\n",
            "739\n",
            "219\n",
            "859\n",
            "165\n",
            "815\n",
            "543\n",
            "387\n",
            "423\n",
            "481\n",
            "637\n",
            "297\n",
            "527\n",
            "583\n",
            "299\n",
            "333\n",
            "509\n",
            "609\n",
            "351\n"
          ]
        }
      ]
    },
    {
      "cell_type": "markdown",
      "source": [
        "(ii)All even numbers\n"
      ],
      "metadata": {
        "id": "P8nSx_i_66-o"
      }
    },
    {
      "cell_type": "code",
      "source": [
        "for num in List:\n",
        "   if num % 2 == 0:\n",
        "    print(num)"
      ],
      "metadata": {
        "colab": {
          "base_uri": "https://localhost:8080/"
        },
        "id": "v6ugs3NF69DJ",
        "outputId": "0ca8af5b-37c7-485c-ceb2-875cce0d3cfe"
      },
      "execution_count": 95,
      "outputs": [
        {
          "output_type": "stream",
          "name": "stdout",
          "text": [
            "360\n",
            "728\n",
            "576\n",
            "174\n",
            "696\n",
            "818\n",
            "254\n",
            "346\n",
            "794\n",
            "174\n",
            "746\n",
            "716\n",
            "116\n",
            "256\n",
            "890\n",
            "478\n",
            "216\n",
            "682\n",
            "576\n",
            "780\n",
            "900\n",
            "426\n",
            "246\n",
            "612\n",
            "376\n",
            "452\n",
            "808\n",
            "388\n",
            "896\n",
            "626\n",
            "758\n",
            "782\n",
            "416\n",
            "472\n",
            "574\n",
            "748\n",
            "194\n",
            "148\n",
            "162\n",
            "534\n",
            "898\n",
            "218\n",
            "804\n",
            "200\n",
            "648\n",
            "514\n",
            "522\n",
            "256\n"
          ]
        }
      ]
    },
    {
      "cell_type": "markdown",
      "source": [
        "(iii)All prime numbers"
      ],
      "metadata": {
        "id": "SUOlIaqN6_4p"
      }
    },
    {
      "cell_type": "code",
      "source": [
        "for i in List:\n",
        "  for num in range(2, (num//2) + 1):\n",
        "    if (num % i) != 0:\n",
        "      print(num)"
      ],
      "metadata": {
        "id": "WYt12v3N7AgK"
      },
      "execution_count": 104,
      "outputs": []
    },
    {
      "cell_type": "markdown",
      "source": [
        "# **Q7. D is a dictionary defined as D={1:\"One\",2:\"Two\",3:\"Three\",4:\"Four\", 5:\"Five\"}**"
      ],
      "metadata": {
        "id": "y1g7jaQB7yTl"
      }
    },
    {
      "cell_type": "code",
      "source": [
        "D = {1:\"One\",2:\"Two\",3:\"Three\",4:\"Four\", 5:\"Five\"}\n",
        "print(D)"
      ],
      "metadata": {
        "colab": {
          "base_uri": "https://localhost:8080/"
        },
        "id": "lXPmIAzK8B0J",
        "outputId": "e466d604-7f54-4e16-b8be-e4cb3971435d"
      },
      "execution_count": 105,
      "outputs": [
        {
          "output_type": "stream",
          "name": "stdout",
          "text": [
            "{1: 'One', 2: 'Two', 3: 'Three', 4: 'Four', 5: 'Five'}\n"
          ]
        }
      ]
    },
    {
      "cell_type": "markdown",
      "source": [
        "WAP to read all the keys and values from dictionary and write to the file in the given below format.\n",
        "Key1, Value1 Key2, Value2 Key3, Value3"
      ],
      "metadata": {
        "id": "tlv9jvv78FQU"
      }
    },
    {
      "cell_type": "code",
      "source": [
        "with open('output.txt', 'w') as f:\n",
        "    for key, value in D.items():\n",
        "        f.write(f'Key{key}, Value{value}\\n')\n",
        "    print(\"Done\")\n",
        "    f.close()\n"
      ],
      "metadata": {
        "colab": {
          "base_uri": "https://localhost:8080/"
        },
        "id": "pRzdff8e8Oyr",
        "outputId": "e8da352d-a013-4827-c700-f7eea412ac40"
      },
      "execution_count": 113,
      "outputs": [
        {
          "output_type": "stream",
          "name": "stdout",
          "text": [
            "Done\n"
          ]
        }
      ]
    },
    {
      "cell_type": "markdown",
      "source": [
        "# **Q8. L is a list defined as L={\"One\",\"Two\",\"Three\",\"Four\",\"Five\"}.**"
      ],
      "metadata": {
        "id": "mccWTTFp9IgC"
      }
    },
    {
      "cell_type": "code",
      "source": [
        "L = {\"One\",\"Two\",\"Three\",\"Four\",\"Five\"}\n",
        "print(L)"
      ],
      "metadata": {
        "colab": {
          "base_uri": "https://localhost:8080/"
        },
        "id": "pxJIi3y79Pmw",
        "outputId": "ed24a375-fe13-47b3-d8c9-ec9ebd0f1a0f"
      },
      "execution_count": 111,
      "outputs": [
        {
          "output_type": "stream",
          "name": "stdout",
          "text": [
            "{'One', 'Five', 'Four', 'Three', 'Two'}\n"
          ]
        }
      ]
    },
    {
      "cell_type": "markdown",
      "source": [
        "WAP to count the length of reach element from a list and write to the file in the given below format: One, 3\n",
        "Two, 3\n",
        "Four, 4\n"
      ],
      "metadata": {
        "id": "63uHxJhG9OeO"
      }
    },
    {
      "cell_type": "code",
      "source": [
        "with open('file.txt', 'w') as f:\n",
        "    for element in L:\n",
        "        length = len(element)\n",
        "        f.write(f'{element}, {length}\\n')\n",
        "    print(\"Done\")\n",
        "    f.close()\n"
      ],
      "metadata": {
        "colab": {
          "base_uri": "https://localhost:8080/"
        },
        "id": "QMu-lVLl9YRy",
        "outputId": "556f55d7-023e-480f-8ce6-db48b48a40ab"
      },
      "execution_count": 114,
      "outputs": [
        {
          "output_type": "stream",
          "name": "stdout",
          "text": [
            "Done\n"
          ]
        }
      ]
    },
    {
      "cell_type": "markdown",
      "source": [
        "# **Q9. Write to the file 100 random strings whose length between 10 and 15**"
      ],
      "metadata": {
        "id": "pFBXRdFu-Bl_"
      }
    },
    {
      "cell_type": "code",
      "source": [
        "import random\n",
        "import string\n",
        "\n",
        "with open('output2.txt', 'w') as f:\n",
        "\n",
        "  for _ in range(100):\n",
        "    length = random.randint(10, 15)\n",
        "    random_string = ''.join(random.choices(string.ascii_letters, k=length))\n",
        "    f.write(random_string + '\\n')\n",
        "\n",
        "print(\"Done\")\n",
        "f.close()\n"
      ],
      "metadata": {
        "colab": {
          "base_uri": "https://localhost:8080/"
        },
        "id": "btD6MSKH9y4c",
        "outputId": "99dea8c8-2285-429a-b0c1-53515b4cf9ff"
      },
      "execution_count": 116,
      "outputs": [
        {
          "output_type": "stream",
          "name": "stdout",
          "text": [
            "Done\n"
          ]
        }
      ]
    },
    {
      "cell_type": "markdown",
      "source": [
        "# **Q10. Write to the file all prime numbers between 600 and 800**"
      ],
      "metadata": {
        "id": "Y7V3jfqH-kBd"
      }
    },
    {
      "cell_type": "code",
      "source": [
        "with open ('file2.txt', 'w') as f:\n",
        "  for i in range (600, 800):\n",
        "    if i > 1:\n",
        "      for j in range(2, (i//2)+1):\n",
        "        if (i % j) == 0:\n",
        "          break\n",
        "      else:\n",
        "        f.write(str(i) + '\\n')\n",
        "\n",
        "  print(\"Done\")\n",
        "  f.close()\n"
      ],
      "metadata": {
        "colab": {
          "base_uri": "https://localhost:8080/"
        },
        "id": "XGrQ-EJ7-rG-",
        "outputId": "c0d81311-67ab-4ced-845d-84b8d4726973"
      },
      "execution_count": 124,
      "outputs": [
        {
          "output_type": "stream",
          "name": "stdout",
          "text": [
            "Done\n"
          ]
        }
      ]
    },
    {
      "cell_type": "markdown",
      "source": [
        "# **Q11. WAP to calculate the time taken by a program**"
      ],
      "metadata": {
        "id": "HA8ZBPHa_e5L"
      }
    },
    {
      "cell_type": "code",
      "source": [
        "import time\n",
        "t1 = time.time()\n",
        "\n",
        "for i in range(100):\n",
        "  for j in range (100):\n",
        "    x = 900\n",
        "\n",
        "t2 = time.time()\n",
        "print(\"Total time taken: \", t2 - t1)"
      ],
      "metadata": {
        "colab": {
          "base_uri": "https://localhost:8080/"
        },
        "id": "DHb0JuXq_vDr",
        "outputId": "9ca6dd66-bd79-467e-93be-0576e6164462"
      },
      "execution_count": 128,
      "outputs": [
        {
          "output_type": "stream",
          "name": "stdout",
          "text": [
            "Total time taken:  0.0009427070617675781\n"
          ]
        }
      ]
    },
    {
      "cell_type": "markdown",
      "source": [
        "# **Q12. WAP to sort following number of elements in a list, calculate time taken and plot the graph.**"
      ],
      "metadata": {
        "id": "3IjUQnnpE_4U"
      }
    },
    {
      "cell_type": "markdown",
      "source": [
        "\n",
        "```\n",
        "| Number of elements in list | Time Taken |\n",
        "|----------------------------|------------|\n",
        "| 5k                         | T1         |\n",
        "| 10k                        | T2         |\n",
        "| 15k                        | T3         |\n",
        "| 20k                        | T4         |\n",
        "| 25k                        | T5         |\n",
        "\n",
        "```\n",
        "\n"
      ],
      "metadata": {
        "id": "FzwFkqrgFF_z"
      }
    },
    {
      "cell_type": "code",
      "source": [
        "import time\n",
        "import matplotlib.pyplot as plt\n",
        "\n",
        "# Create empty lists to store time taken for each case\n",
        "time_taken = []\n",
        "\n",
        "# Define the number of elements for each case\n",
        "list_sizes = [5000, 10000, 15000, 20000, 25000]\n",
        "\n",
        "# Loop through each list size\n",
        "for size in list_sizes:\n",
        "    # Generate a random list of the specified size\n",
        "    random_list = [random.randint(1, 100000) for _ in range(size)]\n",
        "\n",
        "    # Start timer\n",
        "    start_time = time.time()\n",
        "\n",
        "    # Sort the list\n",
        "    random_list.sort()\n",
        "\n",
        "    # End timer\n",
        "    end_time = time.time()\n",
        "\n",
        "    # Calculate the time taken and append it to the list\n",
        "    time_taken.append(end_time - start_time)\n",
        "\n",
        "# Plot the graph\n",
        "plt.plot(list_sizes, time_taken, 'bo-')\n",
        "plt.xlabel(\"Number of elements in list\")\n",
        "plt.ylabel(\"Time taken (seconds)\")\n",
        "plt.title(\"Time Complexity of Sorting a List\")\n",
        "plt.show()\n"
      ],
      "metadata": {
        "colab": {
          "base_uri": "https://localhost:8080/",
          "height": 472
        },
        "id": "STS4Lro8Guos",
        "outputId": "46b9eace-2c0b-4118-f0d2-16b31528a2a4"
      },
      "execution_count": 130,
      "outputs": [
        {
          "output_type": "display_data",
          "data": {
            "text/plain": [
              "<Figure size 640x480 with 1 Axes>"
            ],
            "image/png": "[encoded data removed]"
          },
          "metadata": {}
        }
      ]
    },
    {
      "cell_type": "markdown",
      "source": [
        "# **Q13. WAP to create a dictionary of student marks in five subjects and you have to find the student having maximum and minimum average marks.**"
      ],
      "metadata": {
        "id": "z-UAVcgrHKEP"
      }
    },
    {
      "cell_type": "code",
      "source": [
        "# Create a dictionary of student marks in five subjects\n",
        "student_marks = {\n",
        "  \"A\": [80, 90, 75, 85, 95],\n",
        "  \"B\": [70, 85, 80, 75, 90],\n",
        "  \"C\": [90, 85, 95, 80, 75],\n",
        "  \"D\": [85, 75, 80, 90, 95],\n",
        "  \"E\": [95, 80, 75, 85, 90]\n",
        "}\n",
        "\n",
        "# Calculate the average marks for each student\n",
        "average_marks = {}\n",
        "for student, marks in student_marks.items():\n",
        "  average_marks[student] = sum(marks) / len(marks)\n",
        "\n",
        "# Find the student with the maximum average marks\n",
        "max_average = max(average_marks.values())\n",
        "max_average_student = [student for student, average in average_marks.items() if average == max_average][0]\n",
        "\n",
        "# Find the student with the minimum average marks\n",
        "min_average = min(average_marks.values())\n",
        "min_average_student = [student for student, average in average_marks.items() if average == min_average][0]\n",
        "\n",
        "# Print the results\n",
        "print(\"Student with maximum average marks:\", max_average_student, \"Average:\", max_average)\n",
        "print(\"Student with minimum average marks:\", min_average_student, \"Average:\", min_average)\n"
      ],
      "metadata": {
        "colab": {
          "base_uri": "https://localhost:8080/"
        },
        "id": "SOewlzulHMRG",
        "outputId": "2a9a0ac7-2b40-4318-9f0c-be06091b7d56"
      },
      "execution_count": 131,
      "outputs": [
        {
          "output_type": "stream",
          "name": "stdout",
          "text": [
            "Student with maximum average marks: A Average: 85.0\n",
            "Student with minimum average marks: B Average: 80.0\n"
          ]
        }
      ]
    }
  ]
}